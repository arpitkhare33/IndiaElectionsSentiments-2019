{
 "cells": [
  {
   "cell_type": "code",
   "execution_count": 2,
   "id": "5387efdc",
   "metadata": {},
   "outputs": [],
   "source": [
    "import pandas as pd\n",
    "df_review = pd.read_csv('training_reviews.csv',header=None)"
   ]
  },
  {
   "cell_type": "code",
   "execution_count": 3,
   "id": "adc4a802",
   "metadata": {},
   "outputs": [
    {
     "data": {
      "text/plain": [
       "(1600000, 6)"
      ]
     },
     "execution_count": 3,
     "metadata": {},
     "output_type": "execute_result"
    }
   ],
   "source": [
    "df_review.shape"
   ]
  },
  {
   "cell_type": "code",
   "execution_count": 2,
   "id": "98295e6a",
   "metadata": {},
   "outputs": [
    {
     "data": {
      "text/html": [
       "<div>\n",
       "<style scoped>\n",
       "    .dataframe tbody tr th:only-of-type {\n",
       "        vertical-align: middle;\n",
       "    }\n",
       "\n",
       "    .dataframe tbody tr th {\n",
       "        vertical-align: top;\n",
       "    }\n",
       "\n",
       "    .dataframe thead th {\n",
       "        text-align: right;\n",
       "    }\n",
       "</style>\n",
       "<table border=\"1\" class=\"dataframe\">\n",
       "  <thead>\n",
       "    <tr style=\"text-align: right;\">\n",
       "      <th></th>\n",
       "      <th>0</th>\n",
       "      <th>1</th>\n",
       "      <th>2</th>\n",
       "      <th>3</th>\n",
       "      <th>4</th>\n",
       "      <th>5</th>\n",
       "    </tr>\n",
       "  </thead>\n",
       "  <tbody>\n",
       "    <tr>\n",
       "      <th>0</th>\n",
       "      <td>0</td>\n",
       "      <td>1467810369</td>\n",
       "      <td>Mon Apr 06 22:19:45 PDT 2009</td>\n",
       "      <td>NO_QUERY</td>\n",
       "      <td>_TheSpecialOne_</td>\n",
       "      <td>@switchfoot http://twitpic.com/2y1zl - Awww, t...</td>\n",
       "    </tr>\n",
       "    <tr>\n",
       "      <th>1</th>\n",
       "      <td>0</td>\n",
       "      <td>1467810672</td>\n",
       "      <td>Mon Apr 06 22:19:49 PDT 2009</td>\n",
       "      <td>NO_QUERY</td>\n",
       "      <td>scotthamilton</td>\n",
       "      <td>is upset that he can't update his Facebook by ...</td>\n",
       "    </tr>\n",
       "    <tr>\n",
       "      <th>2</th>\n",
       "      <td>0</td>\n",
       "      <td>1467810917</td>\n",
       "      <td>Mon Apr 06 22:19:53 PDT 2009</td>\n",
       "      <td>NO_QUERY</td>\n",
       "      <td>mattycus</td>\n",
       "      <td>@Kenichan I dived many times for the ball. Man...</td>\n",
       "    </tr>\n",
       "    <tr>\n",
       "      <th>3</th>\n",
       "      <td>0</td>\n",
       "      <td>1467811184</td>\n",
       "      <td>Mon Apr 06 22:19:57 PDT 2009</td>\n",
       "      <td>NO_QUERY</td>\n",
       "      <td>ElleCTF</td>\n",
       "      <td>my whole body feels itchy and like its on fire</td>\n",
       "    </tr>\n",
       "    <tr>\n",
       "      <th>4</th>\n",
       "      <td>0</td>\n",
       "      <td>1467811193</td>\n",
       "      <td>Mon Apr 06 22:19:57 PDT 2009</td>\n",
       "      <td>NO_QUERY</td>\n",
       "      <td>Karoli</td>\n",
       "      <td>@nationwideclass no, it's not behaving at all....</td>\n",
       "    </tr>\n",
       "    <tr>\n",
       "      <th>...</th>\n",
       "      <td>...</td>\n",
       "      <td>...</td>\n",
       "      <td>...</td>\n",
       "      <td>...</td>\n",
       "      <td>...</td>\n",
       "      <td>...</td>\n",
       "    </tr>\n",
       "    <tr>\n",
       "      <th>195</th>\n",
       "      <td>0</td>\n",
       "      <td>1467860268</td>\n",
       "      <td>Mon Apr 06 22:32:40 PDT 2009</td>\n",
       "      <td>NO_QUERY</td>\n",
       "      <td>AmyJade</td>\n",
       "      <td>didn't get shit done today ~ i'm so screwed</td>\n",
       "    </tr>\n",
       "    <tr>\n",
       "      <th>196</th>\n",
       "      <td>0</td>\n",
       "      <td>1467860895</td>\n",
       "      <td>Mon Apr 06 22:32:50 PDT 2009</td>\n",
       "      <td>NO_QUERY</td>\n",
       "      <td>tantrixie</td>\n",
       "      <td>wanttss to go out</td>\n",
       "    </tr>\n",
       "    <tr>\n",
       "      <th>197</th>\n",
       "      <td>0</td>\n",
       "      <td>1467860904</td>\n",
       "      <td>Mon Apr 06 22:32:51 PDT 2009</td>\n",
       "      <td>NO_QUERY</td>\n",
       "      <td>supersharayah</td>\n",
       "      <td>Is not going to sleep tonite.</td>\n",
       "    </tr>\n",
       "    <tr>\n",
       "      <th>198</th>\n",
       "      <td>0</td>\n",
       "      <td>1467861095</td>\n",
       "      <td>Mon Apr 06 22:32:54 PDT 2009</td>\n",
       "      <td>NO_QUERY</td>\n",
       "      <td>bluepaintred</td>\n",
       "      <td>too worried and tired to post tonight</td>\n",
       "    </tr>\n",
       "    <tr>\n",
       "      <th>199</th>\n",
       "      <td>0</td>\n",
       "      <td>1467861413</td>\n",
       "      <td>Mon Apr 06 22:32:58 PDT 2009</td>\n",
       "      <td>NO_QUERY</td>\n",
       "      <td>AmyJade</td>\n",
       "      <td>couldn't get shit done today ~ i'm so screwed</td>\n",
       "    </tr>\n",
       "  </tbody>\n",
       "</table>\n",
       "<p>200 rows × 6 columns</p>\n",
       "</div>"
      ],
      "text/plain": [
       "     0           1                             2         3                4  \\\n",
       "0    0  1467810369  Mon Apr 06 22:19:45 PDT 2009  NO_QUERY  _TheSpecialOne_   \n",
       "1    0  1467810672  Mon Apr 06 22:19:49 PDT 2009  NO_QUERY    scotthamilton   \n",
       "2    0  1467810917  Mon Apr 06 22:19:53 PDT 2009  NO_QUERY         mattycus   \n",
       "3    0  1467811184  Mon Apr 06 22:19:57 PDT 2009  NO_QUERY          ElleCTF   \n",
       "4    0  1467811193  Mon Apr 06 22:19:57 PDT 2009  NO_QUERY           Karoli   \n",
       "..  ..         ...                           ...       ...              ...   \n",
       "195  0  1467860268  Mon Apr 06 22:32:40 PDT 2009  NO_QUERY          AmyJade   \n",
       "196  0  1467860895  Mon Apr 06 22:32:50 PDT 2009  NO_QUERY        tantrixie   \n",
       "197  0  1467860904  Mon Apr 06 22:32:51 PDT 2009  NO_QUERY    supersharayah   \n",
       "198  0  1467861095  Mon Apr 06 22:32:54 PDT 2009  NO_QUERY     bluepaintred   \n",
       "199  0  1467861413  Mon Apr 06 22:32:58 PDT 2009  NO_QUERY          AmyJade   \n",
       "\n",
       "                                                     5  \n",
       "0    @switchfoot http://twitpic.com/2y1zl - Awww, t...  \n",
       "1    is upset that he can't update his Facebook by ...  \n",
       "2    @Kenichan I dived many times for the ball. Man...  \n",
       "3      my whole body feels itchy and like its on fire   \n",
       "4    @nationwideclass no, it's not behaving at all....  \n",
       "..                                                 ...  \n",
       "195       didn't get shit done today ~ i'm so screwed   \n",
       "196                                 wanttss to go out   \n",
       "197                     Is not going to sleep tonite.   \n",
       "198             too worried and tired to post tonight   \n",
       "199     couldn't get shit done today ~ i'm so screwed   \n",
       "\n",
       "[200 rows x 6 columns]"
      ]
     },
     "execution_count": 2,
     "metadata": {},
     "output_type": "execute_result"
    }
   ],
   "source": [
    "#displaying the top 200 rows of the dataset\n",
    "df_review.head(200)"
   ]
  },
  {
   "cell_type": "code",
   "execution_count": 3,
   "id": "6f18862e",
   "metadata": {},
   "outputs": [],
   "source": [
    "#change the column name of 5 to \"text\"\n",
    "df_review.rename(columns={5:'text'},inplace=True)"
   ]
  },
  {
   "cell_type": "code",
   "execution_count": 4,
   "id": "69f73425",
   "metadata": {},
   "outputs": [],
   "source": [
    "#replace the rows with review 0 to \"neg\" and 4 to \"pos\"\n",
    "df_review.replace(to_replace=0,value=\"neg\",inplace=True)\n",
    "df_review.replace(to_replace=4,value=\"pos\",inplace=True)"
   ]
  },
  {
   "cell_type": "code",
   "execution_count": 5,
   "id": "da507a67",
   "metadata": {},
   "outputs": [
    {
     "data": {
      "text/html": [
       "<div>\n",
       "<style scoped>\n",
       "    .dataframe tbody tr th:only-of-type {\n",
       "        vertical-align: middle;\n",
       "    }\n",
       "\n",
       "    .dataframe tbody tr th {\n",
       "        vertical-align: top;\n",
       "    }\n",
       "\n",
       "    .dataframe thead th {\n",
       "        text-align: right;\n",
       "    }\n",
       "</style>\n",
       "<table border=\"1\" class=\"dataframe\">\n",
       "  <thead>\n",
       "    <tr style=\"text-align: right;\">\n",
       "      <th></th>\n",
       "      <th>0</th>\n",
       "      <th>1</th>\n",
       "      <th>2</th>\n",
       "      <th>3</th>\n",
       "      <th>4</th>\n",
       "      <th>text</th>\n",
       "    </tr>\n",
       "  </thead>\n",
       "  <tbody>\n",
       "    <tr>\n",
       "      <th>0</th>\n",
       "      <td>neg</td>\n",
       "      <td>1467810369</td>\n",
       "      <td>Mon Apr 06 22:19:45 PDT 2009</td>\n",
       "      <td>NO_QUERY</td>\n",
       "      <td>_TheSpecialOne_</td>\n",
       "      <td>@switchfoot http://twitpic.com/2y1zl - Awww, t...</td>\n",
       "    </tr>\n",
       "    <tr>\n",
       "      <th>1</th>\n",
       "      <td>neg</td>\n",
       "      <td>1467810672</td>\n",
       "      <td>Mon Apr 06 22:19:49 PDT 2009</td>\n",
       "      <td>NO_QUERY</td>\n",
       "      <td>scotthamilton</td>\n",
       "      <td>is upset that he can't update his Facebook by ...</td>\n",
       "    </tr>\n",
       "    <tr>\n",
       "      <th>2</th>\n",
       "      <td>neg</td>\n",
       "      <td>1467810917</td>\n",
       "      <td>Mon Apr 06 22:19:53 PDT 2009</td>\n",
       "      <td>NO_QUERY</td>\n",
       "      <td>mattycus</td>\n",
       "      <td>@Kenichan I dived many times for the ball. Man...</td>\n",
       "    </tr>\n",
       "    <tr>\n",
       "      <th>3</th>\n",
       "      <td>neg</td>\n",
       "      <td>1467811184</td>\n",
       "      <td>Mon Apr 06 22:19:57 PDT 2009</td>\n",
       "      <td>NO_QUERY</td>\n",
       "      <td>ElleCTF</td>\n",
       "      <td>my whole body feels itchy and like its on fire</td>\n",
       "    </tr>\n",
       "    <tr>\n",
       "      <th>4</th>\n",
       "      <td>neg</td>\n",
       "      <td>1467811193</td>\n",
       "      <td>Mon Apr 06 22:19:57 PDT 2009</td>\n",
       "      <td>NO_QUERY</td>\n",
       "      <td>Karoli</td>\n",
       "      <td>@nationwideclass no, it's not behaving at all....</td>\n",
       "    </tr>\n",
       "    <tr>\n",
       "      <th>...</th>\n",
       "      <td>...</td>\n",
       "      <td>...</td>\n",
       "      <td>...</td>\n",
       "      <td>...</td>\n",
       "      <td>...</td>\n",
       "      <td>...</td>\n",
       "    </tr>\n",
       "    <tr>\n",
       "      <th>1599995</th>\n",
       "      <td>pos</td>\n",
       "      <td>2193601966</td>\n",
       "      <td>Tue Jun 16 08:40:49 PDT 2009</td>\n",
       "      <td>NO_QUERY</td>\n",
       "      <td>AmandaMarie1028</td>\n",
       "      <td>Just woke up. Having no school is the best fee...</td>\n",
       "    </tr>\n",
       "    <tr>\n",
       "      <th>1599996</th>\n",
       "      <td>pos</td>\n",
       "      <td>2193601969</td>\n",
       "      <td>Tue Jun 16 08:40:49 PDT 2009</td>\n",
       "      <td>NO_QUERY</td>\n",
       "      <td>TheWDBoards</td>\n",
       "      <td>TheWDB.com - Very cool to hear old Walt interv...</td>\n",
       "    </tr>\n",
       "    <tr>\n",
       "      <th>1599997</th>\n",
       "      <td>pos</td>\n",
       "      <td>2193601991</td>\n",
       "      <td>Tue Jun 16 08:40:49 PDT 2009</td>\n",
       "      <td>NO_QUERY</td>\n",
       "      <td>bpbabe</td>\n",
       "      <td>Are you ready for your MoJo Makeover? Ask me f...</td>\n",
       "    </tr>\n",
       "    <tr>\n",
       "      <th>1599998</th>\n",
       "      <td>pos</td>\n",
       "      <td>2193602064</td>\n",
       "      <td>Tue Jun 16 08:40:49 PDT 2009</td>\n",
       "      <td>NO_QUERY</td>\n",
       "      <td>tinydiamondz</td>\n",
       "      <td>Happy 38th Birthday to my boo of alll time!!! ...</td>\n",
       "    </tr>\n",
       "    <tr>\n",
       "      <th>1599999</th>\n",
       "      <td>pos</td>\n",
       "      <td>2193602129</td>\n",
       "      <td>Tue Jun 16 08:40:50 PDT 2009</td>\n",
       "      <td>NO_QUERY</td>\n",
       "      <td>RyanTrevMorris</td>\n",
       "      <td>happy #charitytuesday @theNSPCC @SparksCharity...</td>\n",
       "    </tr>\n",
       "  </tbody>\n",
       "</table>\n",
       "<p>1600000 rows × 6 columns</p>\n",
       "</div>"
      ],
      "text/plain": [
       "           0           1                             2         3  \\\n",
       "0        neg  1467810369  Mon Apr 06 22:19:45 PDT 2009  NO_QUERY   \n",
       "1        neg  1467810672  Mon Apr 06 22:19:49 PDT 2009  NO_QUERY   \n",
       "2        neg  1467810917  Mon Apr 06 22:19:53 PDT 2009  NO_QUERY   \n",
       "3        neg  1467811184  Mon Apr 06 22:19:57 PDT 2009  NO_QUERY   \n",
       "4        neg  1467811193  Mon Apr 06 22:19:57 PDT 2009  NO_QUERY   \n",
       "...      ...         ...                           ...       ...   \n",
       "1599995  pos  2193601966  Tue Jun 16 08:40:49 PDT 2009  NO_QUERY   \n",
       "1599996  pos  2193601969  Tue Jun 16 08:40:49 PDT 2009  NO_QUERY   \n",
       "1599997  pos  2193601991  Tue Jun 16 08:40:49 PDT 2009  NO_QUERY   \n",
       "1599998  pos  2193602064  Tue Jun 16 08:40:49 PDT 2009  NO_QUERY   \n",
       "1599999  pos  2193602129  Tue Jun 16 08:40:50 PDT 2009  NO_QUERY   \n",
       "\n",
       "                       4                                               text  \n",
       "0        _TheSpecialOne_  @switchfoot http://twitpic.com/2y1zl - Awww, t...  \n",
       "1          scotthamilton  is upset that he can't update his Facebook by ...  \n",
       "2               mattycus  @Kenichan I dived many times for the ball. Man...  \n",
       "3                ElleCTF    my whole body feels itchy and like its on fire   \n",
       "4                 Karoli  @nationwideclass no, it's not behaving at all....  \n",
       "...                  ...                                                ...  \n",
       "1599995  AmandaMarie1028  Just woke up. Having no school is the best fee...  \n",
       "1599996      TheWDBoards  TheWDB.com - Very cool to hear old Walt interv...  \n",
       "1599997           bpbabe  Are you ready for your MoJo Makeover? Ask me f...  \n",
       "1599998     tinydiamondz  Happy 38th Birthday to my boo of alll time!!! ...  \n",
       "1599999   RyanTrevMorris  happy #charitytuesday @theNSPCC @SparksCharity...  \n",
       "\n",
       "[1600000 rows x 6 columns]"
      ]
     },
     "execution_count": 5,
     "metadata": {},
     "output_type": "execute_result"
    }
   ],
   "source": [
    "#displaying the dataset\n",
    "df_review"
   ]
  },
  {
   "cell_type": "code",
   "execution_count": 6,
   "id": "4b6b3b44",
   "metadata": {},
   "outputs": [
    {
     "data": {
      "text/plain": [
       "pos    800000\n",
       "neg    800000\n",
       "Name: 0, dtype: int64"
      ]
     },
     "execution_count": 6,
     "metadata": {},
     "output_type": "execute_result"
    }
   ],
   "source": [
    "#counting the values of the both positive and negative categories in the dataset\n",
    "df_review.loc[:][0].value_counts()"
   ]
  },
  {
   "cell_type": "code",
   "execution_count": 7,
   "id": "2eb7a06d",
   "metadata": {},
   "outputs": [],
   "source": [
    "# Dropping the unneccessary columns\n",
    "df_review.drop([1,2,3,4],axis=1,inplace=True)"
   ]
  },
  {
   "cell_type": "code",
   "execution_count": 29,
   "id": "620e26be",
   "metadata": {},
   "outputs": [],
   "source": [
    "# converting the dataframe into fresh csv file for further processing\n",
    "df_review.to_csv('training_reviews_clean.csv',header=False,index=False)"
   ]
  },
  {
   "cell_type": "markdown",
   "id": "a73e5b57",
   "metadata": {},
   "source": [
    "# Cleaning ended here:\n",
    "# Processing starts"
   ]
  },
  {
   "cell_type": "code",
   "execution_count": 1,
   "id": "f29ccf31",
   "metadata": {},
   "outputs": [],
   "source": [
    "\n",
    "import pandas as pd\n",
    "df=pd.read_csv('training_reviews_clean.csv',header=None)\n",
    "df.rename(columns={0:'label',1:'tweet'},inplace=True)"
   ]
  },
  {
   "cell_type": "code",
   "execution_count": 2,
   "id": "1eef41b7",
   "metadata": {},
   "outputs": [
    {
     "data": {
      "text/html": [
       "<div>\n",
       "<style scoped>\n",
       "    .dataframe tbody tr th:only-of-type {\n",
       "        vertical-align: middle;\n",
       "    }\n",
       "\n",
       "    .dataframe tbody tr th {\n",
       "        vertical-align: top;\n",
       "    }\n",
       "\n",
       "    .dataframe thead th {\n",
       "        text-align: right;\n",
       "    }\n",
       "</style>\n",
       "<table border=\"1\" class=\"dataframe\">\n",
       "  <thead>\n",
       "    <tr style=\"text-align: right;\">\n",
       "      <th></th>\n",
       "      <th>label</th>\n",
       "      <th>tweet</th>\n",
       "    </tr>\n",
       "  </thead>\n",
       "  <tbody>\n",
       "    <tr>\n",
       "      <th>0</th>\n",
       "      <td>neg</td>\n",
       "      <td>@switchfoot http://twitpic.com/2y1zl - Awww, t...</td>\n",
       "    </tr>\n",
       "    <tr>\n",
       "      <th>1</th>\n",
       "      <td>neg</td>\n",
       "      <td>is upset that he can't update his Facebook by ...</td>\n",
       "    </tr>\n",
       "    <tr>\n",
       "      <th>2</th>\n",
       "      <td>neg</td>\n",
       "      <td>@Kenichan I dived many times for the ball. Man...</td>\n",
       "    </tr>\n",
       "    <tr>\n",
       "      <th>3</th>\n",
       "      <td>neg</td>\n",
       "      <td>my whole body feels itchy and like its on fire</td>\n",
       "    </tr>\n",
       "    <tr>\n",
       "      <th>4</th>\n",
       "      <td>neg</td>\n",
       "      <td>@nationwideclass no, it's not behaving at all....</td>\n",
       "    </tr>\n",
       "    <tr>\n",
       "      <th>...</th>\n",
       "      <td>...</td>\n",
       "      <td>...</td>\n",
       "    </tr>\n",
       "    <tr>\n",
       "      <th>1599995</th>\n",
       "      <td>pos</td>\n",
       "      <td>Just woke up. Having no school is the best fee...</td>\n",
       "    </tr>\n",
       "    <tr>\n",
       "      <th>1599996</th>\n",
       "      <td>pos</td>\n",
       "      <td>TheWDB.com - Very cool to hear old Walt interv...</td>\n",
       "    </tr>\n",
       "    <tr>\n",
       "      <th>1599997</th>\n",
       "      <td>pos</td>\n",
       "      <td>Are you ready for your MoJo Makeover? Ask me f...</td>\n",
       "    </tr>\n",
       "    <tr>\n",
       "      <th>1599998</th>\n",
       "      <td>pos</td>\n",
       "      <td>Happy 38th Birthday to my boo of alll time!!! ...</td>\n",
       "    </tr>\n",
       "    <tr>\n",
       "      <th>1599999</th>\n",
       "      <td>pos</td>\n",
       "      <td>happy #charitytuesday @theNSPCC @SparksCharity...</td>\n",
       "    </tr>\n",
       "  </tbody>\n",
       "</table>\n",
       "<p>1600000 rows × 2 columns</p>\n",
       "</div>"
      ],
      "text/plain": [
       "        label                                              tweet\n",
       "0         neg  @switchfoot http://twitpic.com/2y1zl - Awww, t...\n",
       "1         neg  is upset that he can't update his Facebook by ...\n",
       "2         neg  @Kenichan I dived many times for the ball. Man...\n",
       "3         neg    my whole body feels itchy and like its on fire \n",
       "4         neg  @nationwideclass no, it's not behaving at all....\n",
       "...       ...                                                ...\n",
       "1599995   pos  Just woke up. Having no school is the best fee...\n",
       "1599996   pos  TheWDB.com - Very cool to hear old Walt interv...\n",
       "1599997   pos  Are you ready for your MoJo Makeover? Ask me f...\n",
       "1599998   pos  Happy 38th Birthday to my boo of alll time!!! ...\n",
       "1599999   pos  happy #charitytuesday @theNSPCC @SparksCharity...\n",
       "\n",
       "[1600000 rows x 2 columns]"
      ]
     },
     "execution_count": 2,
     "metadata": {},
     "output_type": "execute_result"
    }
   ],
   "source": [
    "df"
   ]
  },
  {
   "cell_type": "code",
   "execution_count": 3,
   "id": "f28a971f",
   "metadata": {},
   "outputs": [
    {
     "data": {
      "text/plain": [
       "label    0\n",
       "tweet    0\n",
       "dtype: int64"
      ]
     },
     "execution_count": 3,
     "metadata": {},
     "output_type": "execute_result"
    }
   ],
   "source": [
    "df.isnull().sum()"
   ]
  },
  {
   "cell_type": "code",
   "execution_count": 4,
   "id": "02226c8c",
   "metadata": {},
   "outputs": [],
   "source": [
    "#finding the empty cell entries, if exists\n",
    "blanks=[]\n",
    "for i, lb, rv in df.itertuples():\n",
    "    if type(rv)==str:\n",
    "        if rv.isspace():\n",
    "            blanks.append(i)"
   ]
  },
  {
   "cell_type": "code",
   "execution_count": 5,
   "id": "92be8853",
   "metadata": {},
   "outputs": [
    {
     "data": {
      "text/plain": [
       "[]"
      ]
     },
     "execution_count": 5,
     "metadata": {},
     "output_type": "execute_result"
    }
   ],
   "source": [
    "# if there would have been some tweets with empty reviews, we would have deleted the entries at that index\n",
    "blanks"
   ]
  },
  {
   "cell_type": "code",
   "execution_count": 5,
   "id": "8903a6d0",
   "metadata": {},
   "outputs": [],
   "source": [
    "from sklearn.model_selection import train_test_split\n",
    "x=df[['tweet']]\n",
    "y=df['label']\n",
    "x_train,x_test,y_train,y_test= train_test_split(x,y,test_size=0.3,random_state=42)"
   ]
  },
  {
   "cell_type": "code",
   "execution_count": 6,
   "id": "3b523c17",
   "metadata": {},
   "outputs": [
    {
     "data": {
      "text/html": [
       "<div>\n",
       "<style scoped>\n",
       "    .dataframe tbody tr th:only-of-type {\n",
       "        vertical-align: middle;\n",
       "    }\n",
       "\n",
       "    .dataframe tbody tr th {\n",
       "        vertical-align: top;\n",
       "    }\n",
       "\n",
       "    .dataframe thead th {\n",
       "        text-align: right;\n",
       "    }\n",
       "</style>\n",
       "<table border=\"1\" class=\"dataframe\">\n",
       "  <thead>\n",
       "    <tr style=\"text-align: right;\">\n",
       "      <th></th>\n",
       "      <th>tweet</th>\n",
       "    </tr>\n",
       "  </thead>\n",
       "  <tbody>\n",
       "    <tr>\n",
       "      <th>1064291</th>\n",
       "      <td>Disnleyland ISN'T tha happiest place in tha wo...</td>\n",
       "    </tr>\n",
       "    <tr>\n",
       "      <th>281802</th>\n",
       "      <td>OMG BELLLLYYY SHOUTIN AT SUM FOOD.. BRB SOOOO ...</td>\n",
       "    </tr>\n",
       "    <tr>\n",
       "      <th>168792</th>\n",
       "      <td>I'm still waiting to find out what #caca stand...</td>\n",
       "    </tr>\n",
       "    <tr>\n",
       "      <th>911020</th>\n",
       "      <td>So's your face</td>\n",
       "    </tr>\n",
       "    <tr>\n",
       "      <th>69604</th>\n",
       "      <td>So sad to see her drive away  wat do i do now??</td>\n",
       "    </tr>\n",
       "    <tr>\n",
       "      <th>...</th>\n",
       "      <td>...</td>\n",
       "    </tr>\n",
       "    <tr>\n",
       "      <th>259178</th>\n",
       "      <td>this song's middle change just doesn't want to...</td>\n",
       "    </tr>\n",
       "    <tr>\n",
       "      <th>1414414</th>\n",
       "      <td>@officialnjonas Good luck with that</td>\n",
       "    </tr>\n",
       "    <tr>\n",
       "      <th>131932</th>\n",
       "      <td>@ProudGamerTweet I rather average 32370</td>\n",
       "    </tr>\n",
       "    <tr>\n",
       "      <th>671155</th>\n",
       "      <td>Pickin up @misstinayao waitin on @sadittysash ...</td>\n",
       "    </tr>\n",
       "    <tr>\n",
       "      <th>121958</th>\n",
       "      <td>@ home studying for maths wooot ! im so going ...</td>\n",
       "    </tr>\n",
       "  </tbody>\n",
       "</table>\n",
       "<p>1120000 rows × 1 columns</p>\n",
       "</div>"
      ],
      "text/plain": [
       "                                                     tweet\n",
       "1064291  Disnleyland ISN'T tha happiest place in tha wo...\n",
       "281802   OMG BELLLLYYY SHOUTIN AT SUM FOOD.. BRB SOOOO ...\n",
       "168792   I'm still waiting to find out what #caca stand...\n",
       "911020                                     So's your face \n",
       "69604      So sad to see her drive away  wat do i do now??\n",
       "...                                                    ...\n",
       "259178   this song's middle change just doesn't want to...\n",
       "1414414               @officialnjonas Good luck with that \n",
       "131932            @ProudGamerTweet I rather average 32370 \n",
       "671155   Pickin up @misstinayao waitin on @sadittysash ...\n",
       "121958   @ home studying for maths wooot ! im so going ...\n",
       "\n",
       "[1120000 rows x 1 columns]"
      ]
     },
     "execution_count": 6,
     "metadata": {},
     "output_type": "execute_result"
    }
   ],
   "source": [
    "x_train"
   ]
  },
  {
   "cell_type": "code",
   "execution_count": 7,
   "id": "c0aa7d79",
   "metadata": {},
   "outputs": [
    {
     "data": {
      "text/plain": [
       "1120000"
      ]
     },
     "execution_count": 7,
     "metadata": {},
     "output_type": "execute_result"
    }
   ],
   "source": [
    "len(x_train)"
   ]
  },
  {
   "cell_type": "markdown",
   "id": "8de7c33e",
   "metadata": {},
   "source": [
    "# Training the model"
   ]
  },
  {
   "cell_type": "code",
   "execution_count": 9,
   "id": "6b7901ce",
   "metadata": {},
   "outputs": [
    {
     "data": {
      "text/plain": [
       "array([[189701,  50118],\n",
       "       [ 47991, 192190]])"
      ]
     },
     "execution_count": 9,
     "metadata": {},
     "output_type": "execute_result"
    }
   ],
   "source": [
    "\n",
    "\n",
    "from sklearn.model_selection import train_test_split\n",
    "from sklearn.pipeline import Pipeline\n",
    "from sklearn.feature_extraction.text import TfidfVectorizer\n",
    "from sklearn.metrics import confusion_matrix, classification_report\n",
    "from sklearn.svm import LinearSVC\n",
    "\n",
    "X=df[\"tweet\"]\n",
    "y=df[\"label\"]\n",
    "\n",
    "X_train,X_test, y_train, y_test = train_test_split(X,y,test_size=0.3, random_state=50)\n",
    "#tfidf is word level sentiment analysis\n",
    "#using transfer learning of dataset\n",
    "\n",
    "clf_review= Pipeline([('tfidf',TfidfVectorizer()),('clf',LinearSVC())])\n",
    "\n",
    "clf_review.fit(X_train,y_train)\n",
    "\n",
    "\n",
    "predictions= clf_review.predict(X_test)\n",
    "confusion_matrix(y_test, predictions)"
   ]
  },
  {
   "cell_type": "code",
   "execution_count": 10,
   "id": "ed8c8b30",
   "metadata": {},
   "outputs": [
    {
     "name": "stdout",
     "output_type": "stream",
     "text": [
      "              precision    recall  f1-score   support\n",
      "\n",
      "         neg       0.80      0.79      0.79    239819\n",
      "         pos       0.79      0.80      0.80    240181\n",
      "\n",
      "    accuracy                           0.80    480000\n",
      "   macro avg       0.80      0.80      0.80    480000\n",
      "weighted avg       0.80      0.80      0.80    480000\n",
      "\n"
     ]
    }
   ],
   "source": [
    "print(classification_report(y_test, predictions))"
   ]
  },
  {
   "cell_type": "markdown",
   "id": "fefd4cd7",
   "metadata": {},
   "source": [
    "# Training a model for sarcasm detection"
   ]
  },
  {
   "cell_type": "code",
   "execution_count": 11,
   "id": "977f8431",
   "metadata": {},
   "outputs": [
    {
     "data": {
      "text/plain": [
       "array([[3867,  631],\n",
       "       [ 660, 2855]])"
      ]
     },
     "execution_count": 11,
     "metadata": {},
     "output_type": "execute_result"
    }
   ],
   "source": [
    "import json\n",
    "import pandas as pd\n",
    "datastore = []\n",
    "for line in open('Sarcasm_Headlines_Dataset.json', 'r'):\n",
    "    datastore.append(json.loads(line))\n",
    "    \n",
    "sentences=[]\n",
    "labels=[]\n",
    "urls=[]\n",
    "for item in datastore:\n",
    "    \n",
    "    sentences.append(item[\"headline\"])\n",
    "    labels.append(item[\"is_sarcastic\"])\n",
    "    urls.append(item[\"article_link\"])\n",
    "    \n",
    "dataset = pd.DataFrame({'sentences':sentences,'labels':labels})\n",
    "from sklearn.model_selection import train_test_split\n",
    "x=dataset[['sentences']]\n",
    "y=dataset['labels']\n",
    "x_train,x_test,y_train,y_test= train_test_split(x,y,test_size=0.3,random_state=42)\n",
    "\n",
    "from sklearn.linear_model import LogisticRegression\n",
    "from sklearn import metrics\n",
    "\n",
    "from sklearn.model_selection import train_test_split\n",
    "from sklearn.pipeline import Pipeline\n",
    "from sklearn.feature_extraction.text import TfidfVectorizer\n",
    "from sklearn.metrics import confusion_matrix, classification_report\n",
    "from sklearn.svm import LinearSVC\n",
    "\n",
    "\n",
    "X=dataset[\"sentences\"]\n",
    "y=dataset[\"labels\"]\n",
    "\n",
    "X_train,X_test, y_train, y_test = train_test_split(X,y,test_size=0.3, random_state=50)\n",
    "#tfidf is word level sentiment analysis\n",
    "#using transfer learning of dataset\n",
    "\n",
    "sarcasm_pipe= Pipeline([('tfidf',TfidfVectorizer()),('clf',LinearSVC())])\n",
    "\n",
    "sarcasm_pipe.fit(X_train,y_train)\n",
    "\n",
    "# future: intend to develoop a module that intend to analyse the hatred spread through tweet and removal of twitter/ user\n",
    "\n",
    "\n",
    "\n",
    "predictions= sarcasm_pipe.predict(X_test)\n",
    "confusion_matrix(y_test, predictions)"
   ]
  },
  {
   "cell_type": "code",
   "execution_count": 12,
   "id": "b0cf54b6",
   "metadata": {},
   "outputs": [
    {
     "name": "stdout",
     "output_type": "stream",
     "text": [
      "              precision    recall  f1-score   support\n",
      "\n",
      "           0       0.85      0.86      0.86      4498\n",
      "           1       0.82      0.81      0.82      3515\n",
      "\n",
      "    accuracy                           0.84      8013\n",
      "   macro avg       0.84      0.84      0.84      8013\n",
      "weighted avg       0.84      0.84      0.84      8013\n",
      "\n"
     ]
    }
   ],
   "source": [
    "print(classification_report(y_test, predictions))"
   ]
  },
  {
   "cell_type": "markdown",
   "id": "312eeddb",
   "metadata": {},
   "source": [
    "# Using the trained model with the political tweet set"
   ]
  },
  {
   "cell_type": "code",
   "execution_count": 13,
   "id": "131012f8",
   "metadata": {},
   "outputs": [],
   "source": [
    "df_political=pd.read_csv('political_tweets.csv',delimiter='|')"
   ]
  },
  {
   "cell_type": "code",
   "execution_count": 14,
   "id": "f82229aa",
   "metadata": {},
   "outputs": [],
   "source": [
    "df_political=df_political[['full_text']]\n"
   ]
  },
  {
   "cell_type": "code",
   "execution_count": 15,
   "id": "85221702",
   "metadata": {},
   "outputs": [],
   "source": [
    "df_political.isnull().sum()\n",
    "df_political.dropna(inplace=True)\n",
    "x=df_political['full_text']"
   ]
  },
  {
   "cell_type": "code",
   "execution_count": 16,
   "id": "9a1d23b8",
   "metadata": {},
   "outputs": [
    {
     "data": {
      "text/html": [
       "<div>\n",
       "<style scoped>\n",
       "    .dataframe tbody tr th:only-of-type {\n",
       "        vertical-align: middle;\n",
       "    }\n",
       "\n",
       "    .dataframe tbody tr th {\n",
       "        vertical-align: top;\n",
       "    }\n",
       "\n",
       "    .dataframe thead th {\n",
       "        text-align: right;\n",
       "    }\n",
       "</style>\n",
       "<table border=\"1\" class=\"dataframe\">\n",
       "  <thead>\n",
       "    <tr style=\"text-align: right;\">\n",
       "      <th></th>\n",
       "      <th>full_text</th>\n",
       "    </tr>\n",
       "  </thead>\n",
       "  <tbody>\n",
       "    <tr>\n",
       "      <th>0</th>\n",
       "      <td>Guwahati has gained a lot of prominence in rec...</td>\n",
       "    </tr>\n",
       "    <tr>\n",
       "      <th>1</th>\n",
       "      <td>RSS in school days itself? Indoctrinated since...</td>\n",
       "    </tr>\n",
       "    <tr>\n",
       "      <th>2</th>\n",
       "      <td>Words don't exist in Vaccum!\\nModi's post Pulw...</td>\n",
       "    </tr>\n",
       "    <tr>\n",
       "      <th>3</th>\n",
       "      <td>India's #Icecream Industry stands at 15,000 cr...</td>\n",
       "    </tr>\n",
       "    <tr>\n",
       "      <th>4</th>\n",
       "      <td>*40 CRPF Jawans killed in Pulwama Attack\\n*IAF...</td>\n",
       "    </tr>\n",
       "    <tr>\n",
       "      <th>...</th>\n",
       "      <td>...</td>\n",
       "    </tr>\n",
       "    <tr>\n",
       "      <th>46038</th>\n",
       "      <td>My article for https://t.co/b8FIn1GYyz today -...</td>\n",
       "    </tr>\n",
       "    <tr>\n",
       "      <th>46039</th>\n",
       "      <td>Not only in #Noida #homebuyers like #AntrikshS...</td>\n",
       "    </tr>\n",
       "    <tr>\n",
       "      <th>46040</th>\n",
       "      <td>Modi did nothing in last 5 yrs other than the ...</td>\n",
       "    </tr>\n",
       "    <tr>\n",
       "      <th>46041</th>\n",
       "      <td>Congress turns up heat on White House for answ...</td>\n",
       "    </tr>\n",
       "    <tr>\n",
       "      <th>46042</th>\n",
       "      <td>#VaranasiDebate By announcing NYAY scheme Cong...</td>\n",
       "    </tr>\n",
       "  </tbody>\n",
       "</table>\n",
       "<p>46041 rows × 1 columns</p>\n",
       "</div>"
      ],
      "text/plain": [
       "                                               full_text\n",
       "0      Guwahati has gained a lot of prominence in rec...\n",
       "1      RSS in school days itself? Indoctrinated since...\n",
       "2      Words don't exist in Vaccum!\\nModi's post Pulw...\n",
       "3      India's #Icecream Industry stands at 15,000 cr...\n",
       "4      *40 CRPF Jawans killed in Pulwama Attack\\n*IAF...\n",
       "...                                                  ...\n",
       "46038  My article for https://t.co/b8FIn1GYyz today -...\n",
       "46039  Not only in #Noida #homebuyers like #AntrikshS...\n",
       "46040  Modi did nothing in last 5 yrs other than the ...\n",
       "46041  Congress turns up heat on White House for answ...\n",
       "46042  #VaranasiDebate By announcing NYAY scheme Cong...\n",
       "\n",
       "[46041 rows x 1 columns]"
      ]
     },
     "execution_count": 16,
     "metadata": {},
     "output_type": "execute_result"
    }
   ],
   "source": [
    "df_political"
   ]
  },
  {
   "cell_type": "markdown",
   "id": "17f97c22",
   "metadata": {},
   "source": [
    "# Accessing tweets related to BJP"
   ]
  },
  {
   "cell_type": "code",
   "execution_count": 17,
   "id": "9e268dc4",
   "metadata": {},
   "outputs": [],
   "source": [
    "bjp_keywords=['modi','RSS','BJP','yogi','amitshah']\n",
    "bjp_tweets=pd.DataFrame()\n",
    "for key in bjp_keywords:\n",
    "    df=df_political[df_political['full_text'].str.contains(key)]\n",
    "\n",
    "    bjp_tweets=bjp_tweets.append(pd.DataFrame(df))\n"
   ]
  },
  {
   "cell_type": "code",
   "execution_count": 18,
   "id": "17902b6b",
   "metadata": {
    "scrolled": true
   },
   "outputs": [
    {
     "data": {
      "text/html": [
       "<div>\n",
       "<style scoped>\n",
       "    .dataframe tbody tr th:only-of-type {\n",
       "        vertical-align: middle;\n",
       "    }\n",
       "\n",
       "    .dataframe tbody tr th {\n",
       "        vertical-align: top;\n",
       "    }\n",
       "\n",
       "    .dataframe thead th {\n",
       "        text-align: right;\n",
       "    }\n",
       "</style>\n",
       "<table border=\"1\" class=\"dataframe\">\n",
       "  <thead>\n",
       "    <tr style=\"text-align: right;\">\n",
       "      <th></th>\n",
       "      <th>full_text</th>\n",
       "    </tr>\n",
       "  </thead>\n",
       "  <tbody>\n",
       "    <tr>\n",
       "      <th>0</th>\n",
       "      <td>Guwahati has gained a lot of prominence in rec...</td>\n",
       "    </tr>\n",
       "    <tr>\n",
       "      <th>4</th>\n",
       "      <td>*40 CRPF Jawans killed in Pulwama Attack\\n*IAF...</td>\n",
       "    </tr>\n",
       "    <tr>\n",
       "      <th>6</th>\n",
       "      <td>An event to spread awareness on PM Sh. @narend...</td>\n",
       "    </tr>\n",
       "    <tr>\n",
       "      <th>13</th>\n",
       "      <td>This Vote is for @mepratap and @narendramodi  ...</td>\n",
       "    </tr>\n",
       "    <tr>\n",
       "      <th>14</th>\n",
       "      <td>My family is BJP family and was waiting to wat...</td>\n",
       "    </tr>\n",
       "    <tr>\n",
       "      <th>...</th>\n",
       "      <td>...</td>\n",
       "    </tr>\n",
       "    <tr>\n",
       "      <th>22949</th>\n",
       "      <td>On its city pages today, ‘The Telegraph’ doesn...</td>\n",
       "    </tr>\n",
       "    <tr>\n",
       "      <th>26711</th>\n",
       "      <td>@BSYBJP @BJP4Karnataka @AmitShah @narendramodi...</td>\n",
       "    </tr>\n",
       "    <tr>\n",
       "      <th>33031</th>\n",
       "      <td>Thank you #Cuttack for massive support in road...</td>\n",
       "    </tr>\n",
       "    <tr>\n",
       "      <th>34365</th>\n",
       "      <td>#BJP supporters retaliated and were seen excha...</td>\n",
       "    </tr>\n",
       "    <tr>\n",
       "      <th>37528</th>\n",
       "      <td>On behalf of the people of Northeast &amp;amp; in ...</td>\n",
       "    </tr>\n",
       "  </tbody>\n",
       "</table>\n",
       "<p>17832 rows × 1 columns</p>\n",
       "</div>"
      ],
      "text/plain": [
       "                                               full_text\n",
       "0      Guwahati has gained a lot of prominence in rec...\n",
       "4      *40 CRPF Jawans killed in Pulwama Attack\\n*IAF...\n",
       "6      An event to spread awareness on PM Sh. @narend...\n",
       "13     This Vote is for @mepratap and @narendramodi  ...\n",
       "14     My family is BJP family and was waiting to wat...\n",
       "...                                                  ...\n",
       "22949  On its city pages today, ‘The Telegraph’ doesn...\n",
       "26711  @BSYBJP @BJP4Karnataka @AmitShah @narendramodi...\n",
       "33031  Thank you #Cuttack for massive support in road...\n",
       "34365  #BJP supporters retaliated and were seen excha...\n",
       "37528  On behalf of the people of Northeast &amp; in ...\n",
       "\n",
       "[17832 rows x 1 columns]"
      ]
     },
     "execution_count": 18,
     "metadata": {},
     "output_type": "execute_result"
    }
   ],
   "source": [
    "bjp_tweets"
   ]
  },
  {
   "cell_type": "code",
   "execution_count": 20,
   "id": "f2713eca",
   "metadata": {},
   "outputs": [],
   "source": [
    "# adding a column for predictions\n",
    "bjp_tweets['prediction']= clf_review.predict(bjp_tweets['full_text'])\n",
    "bjp_tweets['is_sarcastic']=sarcasm_pipe.predict(bjp_tweets['full_text'])"
   ]
  },
  {
   "cell_type": "code",
   "execution_count": 21,
   "id": "a24d3d13",
   "metadata": {
    "scrolled": true
   },
   "outputs": [
    {
     "data": {
      "text/html": [
       "<div>\n",
       "<style scoped>\n",
       "    .dataframe tbody tr th:only-of-type {\n",
       "        vertical-align: middle;\n",
       "    }\n",
       "\n",
       "    .dataframe tbody tr th {\n",
       "        vertical-align: top;\n",
       "    }\n",
       "\n",
       "    .dataframe thead th {\n",
       "        text-align: right;\n",
       "    }\n",
       "</style>\n",
       "<table border=\"1\" class=\"dataframe\">\n",
       "  <thead>\n",
       "    <tr style=\"text-align: right;\">\n",
       "      <th></th>\n",
       "      <th>full_text</th>\n",
       "      <th>prediction</th>\n",
       "      <th>is_sarcastic</th>\n",
       "    </tr>\n",
       "  </thead>\n",
       "  <tbody>\n",
       "    <tr>\n",
       "      <th>0</th>\n",
       "      <td>Guwahati has gained a lot of prominence in rec...</td>\n",
       "      <td>neg</td>\n",
       "      <td>0</td>\n",
       "    </tr>\n",
       "    <tr>\n",
       "      <th>4</th>\n",
       "      <td>*40 CRPF Jawans killed in Pulwama Attack\\n*IAF...</td>\n",
       "      <td>neg</td>\n",
       "      <td>0</td>\n",
       "    </tr>\n",
       "    <tr>\n",
       "      <th>6</th>\n",
       "      <td>An event to spread awareness on PM Sh. @narend...</td>\n",
       "      <td>pos</td>\n",
       "      <td>0</td>\n",
       "    </tr>\n",
       "    <tr>\n",
       "      <th>13</th>\n",
       "      <td>This Vote is for @mepratap and @narendramodi  ...</td>\n",
       "      <td>pos</td>\n",
       "      <td>0</td>\n",
       "    </tr>\n",
       "    <tr>\n",
       "      <th>14</th>\n",
       "      <td>My family is BJP family and was waiting to wat...</td>\n",
       "      <td>pos</td>\n",
       "      <td>0</td>\n",
       "    </tr>\n",
       "    <tr>\n",
       "      <th>26</th>\n",
       "      <td>PM @narendramodi in the presence of @CMOTamilN...</td>\n",
       "      <td>pos</td>\n",
       "      <td>0</td>\n",
       "    </tr>\n",
       "    <tr>\n",
       "      <th>44</th>\n",
       "      <td>Hate for modi has transformed into hate for In...</td>\n",
       "      <td>neg</td>\n",
       "      <td>0</td>\n",
       "    </tr>\n",
       "    <tr>\n",
       "      <th>52</th>\n",
       "      <td>#GoBackModi is fake one..this is d real letter...</td>\n",
       "      <td>pos</td>\n",
       "      <td>0</td>\n",
       "    </tr>\n",
       "    <tr>\n",
       "      <th>55</th>\n",
       "      <td>#CongressMuktBharat\\nOur beloved PM Sri. @nare...</td>\n",
       "      <td>neg</td>\n",
       "      <td>0</td>\n",
       "    </tr>\n",
       "    <tr>\n",
       "      <th>56</th>\n",
       "      <td>Very #sad &amp;amp; disheartening if true !!\\n\\nGi...</td>\n",
       "      <td>neg</td>\n",
       "      <td>0</td>\n",
       "    </tr>\n",
       "    <tr>\n",
       "      <th>62</th>\n",
       "      <td>@OpIndia_com It’s not illegal to praise Pakist...</td>\n",
       "      <td>neg</td>\n",
       "      <td>1</td>\n",
       "    </tr>\n",
       "    <tr>\n",
       "      <th>64</th>\n",
       "      <td>Some glimpses from @narendramodi ji rally at C...</td>\n",
       "      <td>pos</td>\n",
       "      <td>0</td>\n",
       "    </tr>\n",
       "    <tr>\n",
       "      <th>78</th>\n",
       "      <td>@ANI Sir @narendramodi, just once tell the sto...</td>\n",
       "      <td>pos</td>\n",
       "      <td>0</td>\n",
       "    </tr>\n",
       "    <tr>\n",
       "      <th>81</th>\n",
       "      <td>We heartily welcome the CHOWKIDAR of our Natio...</td>\n",
       "      <td>pos</td>\n",
       "      <td>0</td>\n",
       "    </tr>\n",
       "    <tr>\n",
       "      <th>85</th>\n",
       "      <td>@rsprasad @BJP4India @BJP4Bihar @schaurasiabjp...</td>\n",
       "      <td>pos</td>\n",
       "      <td>0</td>\n",
       "    </tr>\n",
       "    <tr>\n",
       "      <th>88</th>\n",
       "      <td>#PMRTalksToNRIs #NRI4Modi Modi govt mandated i...</td>\n",
       "      <td>pos</td>\n",
       "      <td>0</td>\n",
       "    </tr>\n",
       "    <tr>\n",
       "      <th>92</th>\n",
       "      <td>@ThinkersPad @ModifiedSKP @INCIndia @narendram...</td>\n",
       "      <td>neg</td>\n",
       "      <td>1</td>\n",
       "    </tr>\n",
       "    <tr>\n",
       "      <th>99</th>\n",
       "      <td>@AliSher_Bugti @BBugti @narendramodi @AdityaRa...</td>\n",
       "      <td>neg</td>\n",
       "      <td>0</td>\n",
       "    </tr>\n",
       "    <tr>\n",
       "      <th>100</th>\n",
       "      <td>LIVE: PM Shri @narendramodi is addressing a pu...</td>\n",
       "      <td>pos</td>\n",
       "      <td>0</td>\n",
       "    </tr>\n",
       "    <tr>\n",
       "      <th>101</th>\n",
       "      <td>This how abhi was torched and the hospital vid...</td>\n",
       "      <td>neg</td>\n",
       "      <td>0</td>\n",
       "    </tr>\n",
       "    <tr>\n",
       "      <th>112</th>\n",
       "      <td>@CongressDahan @narendramodi @BJP4India @naren...</td>\n",
       "      <td>pos</td>\n",
       "      <td>0</td>\n",
       "    </tr>\n",
       "    <tr>\n",
       "      <th>115</th>\n",
       "      <td>During demonetisation, 80% of the currency cha...</td>\n",
       "      <td>neg</td>\n",
       "      <td>0</td>\n",
       "    </tr>\n",
       "    <tr>\n",
       "      <th>121</th>\n",
       "      <td>@KiritSomaiya @BJP4India @narendramodi \\nWhat ...</td>\n",
       "      <td>neg</td>\n",
       "      <td>0</td>\n",
       "    </tr>\n",
       "    <tr>\n",
       "      <th>123</th>\n",
       "      <td>#ThankYouPM @narendramodi 4 Securing Bharatvar...</td>\n",
       "      <td>pos</td>\n",
       "      <td>1</td>\n",
       "    </tr>\n",
       "    <tr>\n",
       "      <th>128</th>\n",
       "      <td>If PM @narendramodi President @AmitShah @BJP4I...</td>\n",
       "      <td>pos</td>\n",
       "      <td>0</td>\n",
       "    </tr>\n",
       "    <tr>\n",
       "      <th>135</th>\n",
       "      <td>1. PM @narendramodi ji no leader anywhere in t...</td>\n",
       "      <td>neg</td>\n",
       "      <td>0</td>\n",
       "    </tr>\n",
       "    <tr>\n",
       "      <th>140</th>\n",
       "      <td>@kapil_kausik Indians are celebrating very pas...</td>\n",
       "      <td>pos</td>\n",
       "      <td>0</td>\n",
       "    </tr>\n",
       "    <tr>\n",
       "      <th>141</th>\n",
       "      <td>Breaking from #Kashmir \\n@FarooqAbdullah_ , @O...</td>\n",
       "      <td>pos</td>\n",
       "      <td>0</td>\n",
       "    </tr>\n",
       "    <tr>\n",
       "      <th>142</th>\n",
       "      <td>How's the Josh ? PM @narendramodi ji has done ...</td>\n",
       "      <td>pos</td>\n",
       "      <td>0</td>\n",
       "    </tr>\n",
       "    <tr>\n",
       "      <th>143</th>\n",
       "      <td>The fact of the matter is, the new deal signed...</td>\n",
       "      <td>pos</td>\n",
       "      <td>0</td>\n",
       "    </tr>\n",
       "    <tr>\n",
       "      <th>146</th>\n",
       "      <td>No one knows the people of India better than @...</td>\n",
       "      <td>pos</td>\n",
       "      <td>0</td>\n",
       "    </tr>\n",
       "    <tr>\n",
       "      <th>149</th>\n",
       "      <td>I would rather go a step further and pronounce...</td>\n",
       "      <td>pos</td>\n",
       "      <td>0</td>\n",
       "    </tr>\n",
       "    <tr>\n",
       "      <th>158</th>\n",
       "      <td>Request all to watch this video &amp;amp; ask your...</td>\n",
       "      <td>neg</td>\n",
       "      <td>0</td>\n",
       "    </tr>\n",
       "    <tr>\n",
       "      <th>160</th>\n",
       "      <td>@Jawahargoel @sudhirchaudhary @narendramodi Ja...</td>\n",
       "      <td>pos</td>\n",
       "      <td>0</td>\n",
       "    </tr>\n",
       "    <tr>\n",
       "      <th>162</th>\n",
       "      <td>@htTweets @narendramodi Stop gaining sympathy....</td>\n",
       "      <td>neg</td>\n",
       "      <td>0</td>\n",
       "    </tr>\n",
       "    <tr>\n",
       "      <th>166</th>\n",
       "      <td>India seriously needs moral education in schoo...</td>\n",
       "      <td>pos</td>\n",
       "      <td>0</td>\n",
       "    </tr>\n",
       "    <tr>\n",
       "      <th>167</th>\n",
       "      <td>Congrats PM @narendramodi Govt for getting Mas...</td>\n",
       "      <td>neg</td>\n",
       "      <td>0</td>\n",
       "    </tr>\n",
       "    <tr>\n",
       "      <th>182</th>\n",
       "      <td>#VoteKar \\nBe a soldier and Vote !!!! \\nMy req...</td>\n",
       "      <td>pos</td>\n",
       "      <td>0</td>\n",
       "    </tr>\n",
       "    <tr>\n",
       "      <th>198</th>\n",
       "      <td>RT if you agree with Mani shankar Aiyar that P...</td>\n",
       "      <td>pos</td>\n",
       "      <td>0</td>\n",
       "    </tr>\n",
       "    <tr>\n",
       "      <th>209</th>\n",
       "      <td>@Prof_Hariom @MehboobaMufti @narendramodi I am...</td>\n",
       "      <td>pos</td>\n",
       "      <td>0</td>\n",
       "    </tr>\n",
       "    <tr>\n",
       "      <th>218</th>\n",
       "      <td>After listening to them the officials was wait...</td>\n",
       "      <td>neg</td>\n",
       "      <td>0</td>\n",
       "    </tr>\n",
       "    <tr>\n",
       "      <th>225</th>\n",
       "      <td>@HittsVora @PrannoyRoyNDTV @narendramodi_in Fo...</td>\n",
       "      <td>neg</td>\n",
       "      <td>0</td>\n",
       "    </tr>\n",
       "    <tr>\n",
       "      <th>230</th>\n",
       "      <td>@kanuriLr @PunamIndian @akmpnm2004 @OliveGrin1...</td>\n",
       "      <td>neg</td>\n",
       "      <td>0</td>\n",
       "    </tr>\n",
       "    <tr>\n",
       "      <th>231</th>\n",
       "      <td>@SMedia4 @narendramodi Sir, you have a problem...</td>\n",
       "      <td>pos</td>\n",
       "      <td>0</td>\n",
       "    </tr>\n",
       "    <tr>\n",
       "      <th>243</th>\n",
       "      <td>Campaign trail today for #NamoAgain2019 in Chi...</td>\n",
       "      <td>pos</td>\n",
       "      <td>0</td>\n",
       "    </tr>\n",
       "    <tr>\n",
       "      <th>246</th>\n",
       "      <td>@narendramodi @priyankagandhi @RahulGandhi @IN...</td>\n",
       "      <td>neg</td>\n",
       "      <td>0</td>\n",
       "    </tr>\n",
       "    <tr>\n",
       "      <th>248</th>\n",
       "      <td>Modi ji you are not alone we all are here with...</td>\n",
       "      <td>pos</td>\n",
       "      <td>0</td>\n",
       "    </tr>\n",
       "    <tr>\n",
       "      <th>249</th>\n",
       "      <td>Isn't #JayegaToModiHi a nail in the coffin for...</td>\n",
       "      <td>neg</td>\n",
       "      <td>0</td>\n",
       "    </tr>\n",
       "    <tr>\n",
       "      <th>271</th>\n",
       "      <td>@ndtv We want policy for 60years Delhi Guest T...</td>\n",
       "      <td>pos</td>\n",
       "      <td>0</td>\n",
       "    </tr>\n",
       "    <tr>\n",
       "      <th>276</th>\n",
       "      <td>Positive policies of #Modi govt have provided ...</td>\n",
       "      <td>pos</td>\n",
       "      <td>0</td>\n",
       "    </tr>\n",
       "  </tbody>\n",
       "</table>\n",
       "</div>"
      ],
      "text/plain": [
       "                                             full_text prediction  \\\n",
       "0    Guwahati has gained a lot of prominence in rec...        neg   \n",
       "4    *40 CRPF Jawans killed in Pulwama Attack\\n*IAF...        neg   \n",
       "6    An event to spread awareness on PM Sh. @narend...        pos   \n",
       "13   This Vote is for @mepratap and @narendramodi  ...        pos   \n",
       "14   My family is BJP family and was waiting to wat...        pos   \n",
       "26   PM @narendramodi in the presence of @CMOTamilN...        pos   \n",
       "44   Hate for modi has transformed into hate for In...        neg   \n",
       "52   #GoBackModi is fake one..this is d real letter...        pos   \n",
       "55   #CongressMuktBharat\\nOur beloved PM Sri. @nare...        neg   \n",
       "56   Very #sad &amp; disheartening if true !!\\n\\nGi...        neg   \n",
       "62   @OpIndia_com It’s not illegal to praise Pakist...        neg   \n",
       "64   Some glimpses from @narendramodi ji rally at C...        pos   \n",
       "78   @ANI Sir @narendramodi, just once tell the sto...        pos   \n",
       "81   We heartily welcome the CHOWKIDAR of our Natio...        pos   \n",
       "85   @rsprasad @BJP4India @BJP4Bihar @schaurasiabjp...        pos   \n",
       "88   #PMRTalksToNRIs #NRI4Modi Modi govt mandated i...        pos   \n",
       "92   @ThinkersPad @ModifiedSKP @INCIndia @narendram...        neg   \n",
       "99   @AliSher_Bugti @BBugti @narendramodi @AdityaRa...        neg   \n",
       "100  LIVE: PM Shri @narendramodi is addressing a pu...        pos   \n",
       "101  This how abhi was torched and the hospital vid...        neg   \n",
       "112  @CongressDahan @narendramodi @BJP4India @naren...        pos   \n",
       "115  During demonetisation, 80% of the currency cha...        neg   \n",
       "121  @KiritSomaiya @BJP4India @narendramodi \\nWhat ...        neg   \n",
       "123  #ThankYouPM @narendramodi 4 Securing Bharatvar...        pos   \n",
       "128  If PM @narendramodi President @AmitShah @BJP4I...        pos   \n",
       "135  1. PM @narendramodi ji no leader anywhere in t...        neg   \n",
       "140  @kapil_kausik Indians are celebrating very pas...        pos   \n",
       "141  Breaking from #Kashmir \\n@FarooqAbdullah_ , @O...        pos   \n",
       "142  How's the Josh ? PM @narendramodi ji has done ...        pos   \n",
       "143  The fact of the matter is, the new deal signed...        pos   \n",
       "146  No one knows the people of India better than @...        pos   \n",
       "149  I would rather go a step further and pronounce...        pos   \n",
       "158  Request all to watch this video &amp; ask your...        neg   \n",
       "160  @Jawahargoel @sudhirchaudhary @narendramodi Ja...        pos   \n",
       "162  @htTweets @narendramodi Stop gaining sympathy....        neg   \n",
       "166  India seriously needs moral education in schoo...        pos   \n",
       "167  Congrats PM @narendramodi Govt for getting Mas...        neg   \n",
       "182  #VoteKar \\nBe a soldier and Vote !!!! \\nMy req...        pos   \n",
       "198  RT if you agree with Mani shankar Aiyar that P...        pos   \n",
       "209  @Prof_Hariom @MehboobaMufti @narendramodi I am...        pos   \n",
       "218  After listening to them the officials was wait...        neg   \n",
       "225  @HittsVora @PrannoyRoyNDTV @narendramodi_in Fo...        neg   \n",
       "230  @kanuriLr @PunamIndian @akmpnm2004 @OliveGrin1...        neg   \n",
       "231  @SMedia4 @narendramodi Sir, you have a problem...        pos   \n",
       "243  Campaign trail today for #NamoAgain2019 in Chi...        pos   \n",
       "246  @narendramodi @priyankagandhi @RahulGandhi @IN...        neg   \n",
       "248  Modi ji you are not alone we all are here with...        pos   \n",
       "249  Isn't #JayegaToModiHi a nail in the coffin for...        neg   \n",
       "271  @ndtv We want policy for 60years Delhi Guest T...        pos   \n",
       "276  Positive policies of #Modi govt have provided ...        pos   \n",
       "\n",
       "     is_sarcastic  \n",
       "0               0  \n",
       "4               0  \n",
       "6               0  \n",
       "13              0  \n",
       "14              0  \n",
       "26              0  \n",
       "44              0  \n",
       "52              0  \n",
       "55              0  \n",
       "56              0  \n",
       "62              1  \n",
       "64              0  \n",
       "78              0  \n",
       "81              0  \n",
       "85              0  \n",
       "88              0  \n",
       "92              1  \n",
       "99              0  \n",
       "100             0  \n",
       "101             0  \n",
       "112             0  \n",
       "115             0  \n",
       "121             0  \n",
       "123             1  \n",
       "128             0  \n",
       "135             0  \n",
       "140             0  \n",
       "141             0  \n",
       "142             0  \n",
       "143             0  \n",
       "146             0  \n",
       "149             0  \n",
       "158             0  \n",
       "160             0  \n",
       "162             0  \n",
       "166             0  \n",
       "167             0  \n",
       "182             0  \n",
       "198             0  \n",
       "209             0  \n",
       "218             0  \n",
       "225             0  \n",
       "230             0  \n",
       "231             0  \n",
       "243             0  \n",
       "246             0  \n",
       "248             0  \n",
       "249             0  \n",
       "271             0  \n",
       "276             0  "
      ]
     },
     "execution_count": 21,
     "metadata": {},
     "output_type": "execute_result"
    }
   ],
   "source": [
    "bjp_tweets.head(50)"
   ]
  },
  {
   "cell_type": "markdown",
   "id": "04c12d1a",
   "metadata": {},
   "source": [
    "# Analysis without Sarcasm Handling"
   ]
  },
  {
   "cell_type": "code",
   "execution_count": 22,
   "id": "703e223b",
   "metadata": {},
   "outputs": [
    {
     "name": "stdout",
     "output_type": "stream",
     "text": [
      "25.5750309506744\n",
      "13.155665602397862\n"
     ]
    }
   ],
   "source": [
    "\n",
    "pos,neg=bjp_tweets['prediction'].value_counts()\n",
    "bjpPositivePopularity = (pos/len(df_political))*100\n",
    "bjpNegativePopularity = (neg/len(df_political))*100\n",
    "print(bjpPositivePopularity)\n",
    "print(bjpNegativePopularity)"
   ]
  },
  {
   "cell_type": "code",
   "execution_count": 24,
   "id": "1eedb40f",
   "metadata": {},
   "outputs": [],
   "source": [
    "pos_sarcas = bjp_tweets[(bjp_tweets[\"is_sarcastic\"]==1) & (bjp_tweets[\"prediction\"]=='pos')]\n",
    "pos_sarcas_len= len(pos_sarcas)\n",
    "neg_sarcas = bjp_tweets[(bjp_tweets[\"is_sarcastic\"]==1) & (bjp_tweets[\"prediction\"]=='neg')]\n",
    "neg_sarcas_len= len(neg_sarcas)"
   ]
  },
  {
   "cell_type": "markdown",
   "id": "2bfbd9f9",
   "metadata": {},
   "source": [
    "# Analysis with sarcasm handling"
   ]
  },
  {
   "cell_type": "code",
   "execution_count": 25,
   "id": "f7d5b1eb",
   "metadata": {},
   "outputs": [
    {
     "name": "stdout",
     "output_type": "stream",
     "text": [
      "23.761430029756088\n",
      "20.01042549032384\n"
     ]
    }
   ],
   "source": [
    "\n",
    "pos,neg=bjp_tweets['prediction'].value_counts()\n",
    "pos=pos-pos_sarcas_len\n",
    "neg=neg+pos_sarcas_len\n",
    "\n",
    "pos=pos+neg_sarcas_len\n",
    "neg=neg+pos_sarcas_len\n",
    "\n",
    "\n",
    "bjpPositivePopularityWithSarcas = (pos/len(df_political))*100\n",
    "bjpNegativePopularityWithSarcas = (neg/len(df_political))*100\n",
    "print(bjpPositivePopularityWithSarcas)\n",
    "print(bjpNegativePopularityWithSarcas)"
   ]
  },
  {
   "cell_type": "markdown",
   "id": "10082ff1",
   "metadata": {},
   "source": [
    "# Accessing tweets related to Congress"
   ]
  },
  {
   "cell_type": "code",
   "execution_count": 26,
   "id": "6cb4ebd3",
   "metadata": {},
   "outputs": [
    {
     "data": {
      "text/html": [
       "<div>\n",
       "<style scoped>\n",
       "    .dataframe tbody tr th:only-of-type {\n",
       "        vertical-align: middle;\n",
       "    }\n",
       "\n",
       "    .dataframe tbody tr th {\n",
       "        vertical-align: top;\n",
       "    }\n",
       "\n",
       "    .dataframe thead th {\n",
       "        text-align: right;\n",
       "    }\n",
       "</style>\n",
       "<table border=\"1\" class=\"dataframe\">\n",
       "  <thead>\n",
       "    <tr style=\"text-align: right;\">\n",
       "      <th></th>\n",
       "      <th>full_text</th>\n",
       "      <th>prediction</th>\n",
       "      <th>is_sarcastic</th>\n",
       "    </tr>\n",
       "  </thead>\n",
       "  <tbody>\n",
       "    <tr>\n",
       "      <th>68</th>\n",
       "      <td>@RahulGandhi \\nRespected Rahul Ji, some BJP wo...</td>\n",
       "      <td>pos</td>\n",
       "      <td>0</td>\n",
       "    </tr>\n",
       "    <tr>\n",
       "      <th>92</th>\n",
       "      <td>@ThinkersPad @ModifiedSKP @INCIndia @narendram...</td>\n",
       "      <td>neg</td>\n",
       "      <td>1</td>\n",
       "    </tr>\n",
       "    <tr>\n",
       "      <th>94</th>\n",
       "      <td>@INCIndia @RahulGandhi 5% #VAT in #Dubai\\n\\n6%...</td>\n",
       "      <td>neg</td>\n",
       "      <td>0</td>\n",
       "    </tr>\n",
       "    <tr>\n",
       "      <th>124</th>\n",
       "      <td>@rangakidambee @PChidambaram_IN @INCIndia ERAS...</td>\n",
       "      <td>pos</td>\n",
       "      <td>0</td>\n",
       "    </tr>\n",
       "    <tr>\n",
       "      <th>161</th>\n",
       "      <td>Heartfelt interaction with residents of Chandi...</td>\n",
       "      <td>pos</td>\n",
       "      <td>1</td>\n",
       "    </tr>\n",
       "    <tr>\n",
       "      <th>...</th>\n",
       "      <td>...</td>\n",
       "      <td>...</td>\n",
       "      <td>...</td>\n",
       "    </tr>\n",
       "    <tr>\n",
       "      <th>45058</th>\n",
       "      <td>#RahulKaBaapDallaHai first someone has to clar...</td>\n",
       "      <td>pos</td>\n",
       "      <td>1</td>\n",
       "    </tr>\n",
       "    <tr>\n",
       "      <th>45170</th>\n",
       "      <td>@prashantrathi08 @cskkanu @prakkash111 @PMOInd...</td>\n",
       "      <td>neg</td>\n",
       "      <td>0</td>\n",
       "    </tr>\n",
       "    <tr>\n",
       "      <th>45371</th>\n",
       "      <td>Congress Goverment in Madhya Pradesh sending m...</td>\n",
       "      <td>pos</td>\n",
       "      <td>1</td>\n",
       "    </tr>\n",
       "    <tr>\n",
       "      <th>45398</th>\n",
       "      <td>How Our PM troll pappu @RahulGandhi  with swag...</td>\n",
       "      <td>neg</td>\n",
       "      <td>0</td>\n",
       "    </tr>\n",
       "    <tr>\n",
       "      <th>45804</th>\n",
       "      <td>I vl never ever accept pappu as pm of this cou...</td>\n",
       "      <td>neg</td>\n",
       "      <td>0</td>\n",
       "    </tr>\n",
       "  </tbody>\n",
       "</table>\n",
       "<p>5240 rows × 3 columns</p>\n",
       "</div>"
      ],
      "text/plain": [
       "                                               full_text prediction  \\\n",
       "68     @RahulGandhi \\nRespected Rahul Ji, some BJP wo...        pos   \n",
       "92     @ThinkersPad @ModifiedSKP @INCIndia @narendram...        neg   \n",
       "94     @INCIndia @RahulGandhi 5% #VAT in #Dubai\\n\\n6%...        neg   \n",
       "124    @rangakidambee @PChidambaram_IN @INCIndia ERAS...        pos   \n",
       "161    Heartfelt interaction with residents of Chandi...        pos   \n",
       "...                                                  ...        ...   \n",
       "45058  #RahulKaBaapDallaHai first someone has to clar...        pos   \n",
       "45170  @prashantrathi08 @cskkanu @prakkash111 @PMOInd...        neg   \n",
       "45371  Congress Goverment in Madhya Pradesh sending m...        pos   \n",
       "45398  How Our PM troll pappu @RahulGandhi  with swag...        neg   \n",
       "45804  I vl never ever accept pappu as pm of this cou...        neg   \n",
       "\n",
       "       is_sarcastic  \n",
       "68                0  \n",
       "92                1  \n",
       "94                0  \n",
       "124               0  \n",
       "161               1  \n",
       "...             ...  \n",
       "45058             1  \n",
       "45170             0  \n",
       "45371             1  \n",
       "45398             0  \n",
       "45804             0  \n",
       "\n",
       "[5240 rows x 3 columns]"
      ]
     },
     "execution_count": 26,
     "metadata": {},
     "output_type": "execute_result"
    }
   ],
   "source": [
    "congress_keywords=['INC','congress','rahulgandhi','soniagandhi','pappu']\n",
    "congress_tweets=pd.DataFrame()\n",
    "for key in congress_keywords:\n",
    "    df=df_political[df_political['full_text'].str.contains(key)]\n",
    "\n",
    "    congress_tweets=congress_tweets.append(pd.DataFrame(df))\n",
    "# adding a column for predictions\n",
    "congress_tweets['prediction']= clf_review.predict(congress_tweets['full_text'])\n",
    "congress_tweets['is_sarcastic']=sarcasm_pipe.predict(congress_tweets['full_text'])\n",
    "congress_tweets"
   ]
  },
  {
   "cell_type": "code",
   "execution_count": 27,
   "id": "b283535d",
   "metadata": {},
   "outputs": [
    {
     "name": "stdout",
     "output_type": "stream",
     "text": [
      "6.502899589496318\n",
      "4.878260680697639\n"
     ]
    }
   ],
   "source": [
    "pos,neg=congress_tweets['prediction'].value_counts()\n",
    "congPositivePopularity = (pos/len(df_political))*100\n",
    "congNegativePopularity = (neg/len(df_political))*100\n",
    "\n",
    "print(congPositivePopularity)\n",
    "print(congNegativePopularity)"
   ]
  },
  {
   "cell_type": "code",
   "execution_count": 28,
   "id": "26ba7a93",
   "metadata": {},
   "outputs": [
    {
     "name": "stdout",
     "output_type": "stream",
     "text": [
      "6.34434525748789\n",
      "6.637562172845941\n"
     ]
    }
   ],
   "source": [
    "# Considering sarcastic tweets also\n",
    "pos_sarcas = congress_tweets[(congress_tweets[\"is_sarcastic\"]==1) & (congress_tweets[\"prediction\"]=='pos')]\n",
    "pos_sarcas_len= len(pos_sarcas)\n",
    "neg_sarcas = congress_tweets[(congress_tweets[\"is_sarcastic\"]==1) & (congress_tweets[\"prediction\"]=='neg')]\n",
    "neg_sarcas_len= len(neg_sarcas)\n",
    "\n",
    "# Analysis with sarcasm handling\n",
    "pos,neg=congress_tweets['prediction'].value_counts()\n",
    "pos=pos-pos_sarcas_len\n",
    "neg=neg+pos_sarcas_len\n",
    "\n",
    "pos=pos+neg_sarcas_len\n",
    "neg=neg+pos_sarcas_len\n",
    "\n",
    "\n",
    "congPositivePopularityWithSarcas = (pos/len(df_political))*100\n",
    "congNegativePopularityWithSarcas = (neg/len(df_political))*100\n",
    "print(congPositivePopularityWithSarcas)\n",
    "print(congNegativePopularityWithSarcas)"
   ]
  },
  {
   "cell_type": "code",
   "execution_count": 33,
   "id": "30e8d2ca",
   "metadata": {},
   "outputs": [],
   "source": [
    "bjpPerc = 100*bjpPositivePopularity/(bjpPositivePopularity+bjpNegativePopularity)\n",
    "congPerc = 100*congPositivePopularity/(congPositivePopularity+congNegativePopularity)\n",
    "rest = 100 - (bjpPositivePopularity+bjpNegativePopularity+congPositivePopularity+congNegativePopularity)"
   ]
  },
  {
   "cell_type": "markdown",
   "id": "eae043fa",
   "metadata": {},
   "source": [
    "# Plotting data without sarcasm handling"
   ]
  },
  {
   "cell_type": "code",
   "execution_count": 34,
   "id": "c7e2b2a8",
   "metadata": {},
   "outputs": [
    {
     "data": {
      "image/png": "[encoded data removed]",
      "text/plain": [
       "<Figure size 432x288 with 1 Axes>"
      ]
     },
     "metadata": {},
     "output_type": "display_data"
    }
   ],
   "source": [
    "import matplotlib.pyplot as plt\n",
    "import numpy as np\n",
    "\n",
    "y = np.array([bjpPositivePopularity,bjpNegativePopularity,congPositivePopularity,congNegativePopularity,rest])\n",
    "mylabels = [\"Positive Popularity of BJP\", \"Negative Popularity of BJP\", \"Positive Popularity of Congress\", \"Negative Popularity of Congress\",\"Others\"]\n",
    "\n",
    "plt.pie(y, labels = mylabels,explode=[0,0,0,0,0.2],radius=2)\n",
    "plt.show() "
   ]
  },
  {
   "cell_type": "code",
   "execution_count": 35,
   "id": "f4f25bac",
   "metadata": {},
   "outputs": [],
   "source": [
    "bjpRatio= bjpPositivePopularity/bjpNegativePopularity\n",
    "congRatio = congPositivePopularity/congNegativePopularity\n",
    "bjpRatioNeg=bjpNegativePopularity/ bjpPositivePopularity\n",
    "congRatioNeg = congNegativePopularity/congPositivePopularity"
   ]
  },
  {
   "cell_type": "code",
   "execution_count": 36,
   "id": "d65dffaa",
   "metadata": {},
   "outputs": [
    {
     "name": "stdout",
     "output_type": "stream",
     "text": [
      "1.9440316988608224\n",
      "1.3330365093499554\n"
     ]
    }
   ],
   "source": [
    "print(bjpRatio)\n",
    "print(congRatio)"
   ]
  },
  {
   "cell_type": "markdown",
   "id": "a79dc2c7",
   "metadata": {},
   "source": [
    "# Plotting the Positive: Negative ratio"
   ]
  },
  {
   "cell_type": "code",
   "execution_count": 37,
   "id": "0f0293ee",
   "metadata": {
    "scrolled": true
   },
   "outputs": [
    {
     "data": {
      "image/png": "[encoded data removed]",
      "text/plain": [
       "<Figure size 432x288 with 1 Axes>"
      ]
     },
     "metadata": {
      "needs_background": "light"
     },
     "output_type": "display_data"
    }
   ],
   "source": [
    "import matplotlib.pyplot as plt\n",
    "import numpy as np\n",
    "\n",
    "\n",
    "x = np.array([\"BJP Positive\",\"INC Positive\"])\n",
    "y = np.array([bjpRatio,congRatio, ])\n",
    "\n",
    "plt.bar(x,y,color=['#FF8C00','blue'])\n",
    "plt.show()"
   ]
  },
  {
   "cell_type": "markdown",
   "id": "9872f556",
   "metadata": {},
   "source": [
    "# Plotting the Percentage of positive tweets among the total tweets for a party"
   ]
  },
  {
   "cell_type": "code",
   "execution_count": 38,
   "id": "5f89816e",
   "metadata": {},
   "outputs": [
    {
     "data": {
      "image/png": "[encoded data removed]",
      "text/plain": [
       "<Figure size 432x288 with 1 Axes>"
      ]
     },
     "metadata": {
      "needs_background": "light"
     },
     "output_type": "display_data"
    }
   ],
   "source": [
    "# plotting percent graph\n",
    "import matplotlib.pyplot as plt\n",
    "import numpy as np\n",
    "\n",
    "x = np.array([\"BJP Positive Popularity\",\"INC Positive Popularity\"])\n",
    "y = np.array([bjpPerc,congPerc])\n",
    "\n",
    "plt.bar(x,y,color=['#FF8C00','blue'])\n",
    "plt.show()"
   ]
  },
  {
   "cell_type": "markdown",
   "id": "de2d1ad4",
   "metadata": {},
   "source": [
    "# Plotting data with sarcasm handling"
   ]
  },
  {
   "cell_type": "code",
   "execution_count": 39,
   "id": "f17f8e2e",
   "metadata": {},
   "outputs": [
    {
     "data": {
      "image/png": "[encoded data removed]",
      "text/plain": [
       "<Figure size 432x288 with 1 Axes>"
      ]
     },
     "metadata": {},
     "output_type": "display_data"
    }
   ],
   "source": [
    "import matplotlib.pyplot as plt\n",
    "import numpy as np\n",
    "\n",
    "y = np.array([bjpPositivePopularityWithSarcas,bjpNegativePopularityWithSarcas,congPositivePopularityWithSarcas,congNegativePopularityWithSarcas,rest])\n",
    "mylabels = [\"Positive Popularity of BJP\", \"Negative Popularity of BJP\", \"Positive Popularity of Congress\", \"Negative Popularity of Congress\",\"Others\"]\n",
    "\n",
    "plt.pie(y, labels = mylabels,explode=[0,0,0,0,0.2],radius=2)\n",
    "plt.show() "
   ]
  },
  {
   "cell_type": "code",
   "execution_count": 38,
   "id": "28ce67b8",
   "metadata": {},
   "outputs": [],
   "source": [
    "# Plotting bar chart for percentage"
   ]
  },
  {
   "cell_type": "code",
   "execution_count": 40,
   "id": "f9ec1458",
   "metadata": {},
   "outputs": [],
   "source": [
    "bjpPercWS = 100*bjpPositivePopularityWithSarcas/(bjpPositivePopularityWithSarcas+bjpNegativePopularityWithSarcas)\n",
    "congPercWS = 100*congPositivePopularityWithSarcas/(congPositivePopularityWithSarcas+congNegativePopularityWithSarcas)\n",
    "rest = 100 - (bjpPositivePopularityWithSarcas+bjpNegativePopularityWithSarcas+congPositivePopularityWithSarcas+congNegativePopularityWithSarcas)"
   ]
  },
  {
   "cell_type": "code",
   "execution_count": 44,
   "id": "c423bc34",
   "metadata": {},
   "outputs": [
    {
     "name": "stdout",
     "output_type": "stream",
     "text": [
      "66.03297442799462\n",
      "57.137404580152676\n",
      "54.284721877636095\n",
      "48.87067090513636\n"
     ]
    }
   ],
   "source": [
    "print(bjpPerc)\n",
    "print(congPerc)\n",
    "print(bjpPercWS)\n",
    "print(congPercWS)"
   ]
  },
  {
   "cell_type": "code",
   "execution_count": 41,
   "id": "f7ff1447",
   "metadata": {},
   "outputs": [
    {
     "data": {
      "image/png": "[encoded data removed]",
      "text/plain": [
       "<Figure size 432x288 with 1 Axes>"
      ]
     },
     "metadata": {
      "needs_background": "light"
     },
     "output_type": "display_data"
    }
   ],
   "source": [
    "# plotting percent graph for with sarcasm results\n",
    "import matplotlib.pyplot as plt\n",
    "import numpy as np\n",
    "\n",
    "x = np.array([\"BJP Positive Popularity WS\",\"INC Positive Popularity WS\"])\n",
    "y = np.array([bjpPercWS,congPercWS])\n",
    "\n",
    "plt.bar(x,y,color=['#FF8C00','blue'])\n",
    "plt.show()"
   ]
  },
  {
   "cell_type": "code",
   "execution_count": 42,
   "id": "e255e2ba",
   "metadata": {},
   "outputs": [],
   "source": [
    "bjpRatioWS= bjpPositivePopularityWithSarcas/bjpNegativePopularityWithSarcas\n",
    "congRatioWS = congPositivePopularityWithSarcas/congNegativePopularityWithSarcas\n",
    "bjpRatioNegWS=bjpNegativePopularityWithSarcas/ bjpPositivePopularityWithSarcas\n",
    "congRatioNegWS = congNegativePopularityWithSarcas/congPositivePopularityWithSarcas\n"
   ]
  },
  {
   "cell_type": "code",
   "execution_count": 43,
   "id": "3ca52c7e",
   "metadata": {},
   "outputs": [
    {
     "name": "stdout",
     "output_type": "stream",
     "text": [
      "1.1874525127537177\n",
      "0.9558246073298429\n"
     ]
    }
   ],
   "source": [
    "print(bjpRatioWS)\n",
    "print(congRatioWS)"
   ]
  },
  {
   "cell_type": "markdown",
   "id": "e186f485",
   "metadata": {},
   "source": [
    "# Plotting the Positive: Negative tweets for both the  party"
   ]
  },
  {
   "cell_type": "code",
   "execution_count": 45,
   "id": "30230237",
   "metadata": {},
   "outputs": [
    {
     "data": {
      "image/png": "[encoded data removed]",
      "text/plain": [
       "<Figure size 432x288 with 1 Axes>"
      ]
     },
     "metadata": {
      "needs_background": "light"
     },
     "output_type": "display_data"
    }
   ],
   "source": [
    "import matplotlib.pyplot as plt\n",
    "import numpy as np\n",
    "\n",
    "x = np.array([\"BJP Positive WS\",\"INC Positive WS\",])\n",
    "y = np.array([bjpRatioWS,congRatioWS])\n",
    "\n",
    "plt.bar(x,y,color=['#FF8C00','blue'])\n",
    "plt.show()"
   ]
  },
  {
   "cell_type": "code",
   "execution_count": null,
   "id": "75c52d23",
   "metadata": {},
   "outputs": [],
   "source": []
  }
 ],
 "metadata": {
  "kernelspec": {
   "display_name": "Python 3",
   "language": "python",
   "name": "python3"
  },
  "language_info": {
   "codemirror_mode": {
    "name": "ipython",
    "version": 3
   },
   "file_extension": ".py",
   "mimetype": "text/x-python",
   "name": "python",
   "nbconvert_exporter": "python",
   "pygments_lexer": "ipython3",
   "version": "3.8.8"
  }
 },
 "nbformat": 4,
 "nbformat_minor": 5
}
